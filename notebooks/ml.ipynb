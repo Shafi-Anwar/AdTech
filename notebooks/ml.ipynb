{
 "cells": [
  {
   "cell_type": "markdown",
   "id": "e690a635",
   "metadata": {},
   "source": [
    "## Step 1: Define Problem Clearly\n",
    "\n",
    "- **Goal**: Predict whether a user will click an ad (clicked = 0/1)\n",
    "\n",
    "- **Type**: Binary classification problem\n",
    "\n",
    "- **Target Variable**: clicked\n",
    "\n",
    "## Use Case:\n",
    " - Personalized ad targeting\n",
    "\n",
    " - Budget allocation to high CTR ads/devices\n",
    " - Optimizing"
   ]
  },
  {
   "cell_type": "code",
   "execution_count": null,
   "id": "1a856431",
   "metadata": {},
   "outputs": [],
   "source": []
  }
 ],
 "metadata": {
  "kernelspec": {
   "display_name": "base",
   "language": "python",
   "name": "python3"
  },
  "language_info": {
   "name": "python",
   "version": "3.12.2"
  }
 },
 "nbformat": 4,
 "nbformat_minor": 5
}
